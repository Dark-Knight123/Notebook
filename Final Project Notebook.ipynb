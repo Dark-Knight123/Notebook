{
  "cells": [
    {
      "cell_type": "markdown",
      "id": "9ed69466-fb56-4aae-9079-30242bdf919a",
      "metadata": {},
      "source": [
        "# Data Science Tools and Ecosystem"
      ]
    },
    {
      "cell_type": "markdown",
      "id": "2aa00d1e-5bf3-4ec8-a0bd-70174f123414",
      "metadata": {},
      "source": [
        "In this notebook, Data Science Tools and Ecosystem are summarized. "
      ]
    },
    {
      "cell_type": "markdown",
      "id": "822e10fc-8bf8-487b-9fc7-f82338ab398f",
      "metadata": {},
      "source": [
        "__Objectives:__\n",
        "- Understand and list programming languages used in Data Science\n",
        "- Identify popular Data Science libraries\n",
        "- Utilize markdown and code cells effectively\n",
        "- Perform basic arithmetic operations\n",
        "- Convert time units with Python"
      ]
    },
    {
      "cell_type": "markdown",
      "id": "7b677e69-fc14-4d7e-8cc4-c6ca9f3b72af",
      "metadata": {},
      "source": [
        "## Author \n",
        "Frank"
      ]
    },
    {
      "cell_type": "markdown",
      "id": "874e405f-067c-423c-a1a9-b374681462a4",
      "metadata": {},
      "source": [
        "Some of the popular languages that Data Scientists use are:\n",
        "1. Python\n",
        "2. R\n",
        "3. SQL\n",
        "4. Julia\n",
        "5. Scala"
      ]
    },
    {
      "cell_type": "markdown",
      "id": "bd1b3f95-0b60-45b1-843f-d13a2850aa5b",
      "metadata": {},
      "source": [
        "Some of the commonly used libraries used by Data Scientists include: \n",
        "1. Pandas\n",
        "2. NumPy\n",
        "3. Matplotlib\n",
        "4. TensorFlow\n",
        "5. Scikit-learn"
      ]
    },
    {
      "cell_type": "markdown",
      "id": "b3b7e4ef-c54c-402b-b3c6-41dfa08904ae",
      "metadata": {},
      "source": [
        "| Tool             |    Description                    |\n",
        "|------------------|-----------------------------------|\n",
        "| Jupyter Notebook | Interactive computing environment |\n",
        "| RStudio          |    IDE for R                      |\n",
        "| Apache Spark     | Big data processing               |\n",
        "| Tableau          | Data visualization tool           |\n",
        "| Power BI         | Business analytics platform       |\n"
      ]
    },
    {
      "cell_type": "markdown",
      "id": "935ac144-f6a6-4de7-a292-7f1f0f0906b5",
      "metadata": {},
      "source": [
        "### In this section, we demonstrate basic arithmetic operations."
      ]
    },
    {
      "cell_type": "code",
      "execution_count": null,
      "id": "bc95910b-c10a-4bde-abc3-c32ceb8495ed",
      "metadata": {
        "trusted": true
      },
      "outputs": [
        {
          "name": "stdout",
          "output_type": "stream",
          "text": [
            "Result:  55\n"
          ]
        }
      ],
      "source": [
        "# multiplication and addition example\n",
        "x = 5\n",
        "y = 10\n",
        "result = (x * y) + x\n",
        "print(\"Result: \", result)"
      ]
    },
    {
      "cell_type": "code",
      "execution_count": 21,
      "id": "fa017f9a-ddf9-41a5-a6fe-87adad151240",
      "metadata": {
        "scrolled": true,
        "trusted": true
      },
      "outputs": [
        {
          "name": "stdout",
          "output_type": "stream",
          "text": [
            "120 minutes is equal to 2.0 hours.\n"
          ]
        }
      ],
      "source": [
        "# minutes to hours conversion\n",
        "minutes = 120\n",
        "hours = minutes / 60\n",
        "print(f\"{minutes} minutes is equal to {hours} hours.\")"
      ]
    }
  ],
  "metadata": {
    "kernelspec": {
      "display_name": "Python (Pyodide)",
      "language": "python",
      "name": "python"
    },
    "language_info": {
      "codemirror_mode": {
        "name": "python",
        "version": 3
      },
      "file_extension": ".py",
      "mimetype": "text/x-python",
      "name": "python",
      "nbconvert_exporter": "python",
      "pygments_lexer": "ipython3",
      "version": "3.8"
    }
  },
  "nbformat": 4,
  "nbformat_minor": 5
}
