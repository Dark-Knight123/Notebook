{
 "cells": [
  {
   "cell_type": "markdown",
   "id": "04b8d097",
   "metadata": {},
   "source": [
    "# Data Science Tools and Ecosystem"
   ]
  },
  {
   "cell_type": "markdown",
   "id": "c0a46a8f",
   "metadata": {},
   "source": [
    "In this notebook, Data Science Tools and Ecosystem are summarized."
   ]
  },
  {
   "cell_type": "markdown",
   "id": "e67df452",
   "metadata": {},
   "source": [
    "__Objectives:__\n",
    "- Python\n",
    "- SQL\n",
    "- Scala\n",
    "- VS Code\n",
    "- RStudio"
   ]
  },
  {
   "cell_type": "markdown",
   "id": "a727c73c",
   "metadata": {},
   "source": [
    "## Author\n",
    "Frank"
   ]
  },
  {
   "cell_type": "markdown",
   "id": "060f3d1f",
   "metadata": {},
   "source": [
    "Some of the popular languages that Data Scientists use are: \n",
    "1. Python\n",
    "2. R\n",
    "3. SQL\n",
    "4. Julia\n",
    "5. Scala\n",
    "6. Java"
   ]
  },
  {
   "cell_type": "markdown",
   "id": "1b31d5a6",
   "metadata": {},
   "source": [
    "Some of the commonly used libraries used by Data Scientists include: \n",
    "1. pandas\n",
    "2. NumPy\n",
    "3. matplotlib\n",
    "4. seaborn \n",
    "5. plotly\n",
    "6. scikit-learn\n",
    "7. XGBoost/LightGBM\n",
    "8. TensorFlow/PyTorch\n",
    "9. statsmodels\n",
    "10. scipy\n",
    "11. dplyr\n",
    "12. tidyr\n",
    "13. ggplot2\n",
    "14. lattice\n",
    "15. caret\n",
    "16. randomForest\n",
    "17. xgboost\n",
    "18. e1071"
   ]
  },
  {
   "cell_type": "markdown",
   "id": "17ea36a3",
   "metadata": {},
   "source": [
    "| __Data Science Tools__ |\n",
    "|------------------------|\n",
    "|    Jupyter Notebook    |\n",
    "|    RStudio             |\n",
    "|    VS Code             |   "
   ]
  },
  {
   "cell_type": "markdown",
   "id": "c399a096",
   "metadata": {},
   "source": [
    "### Below are a few examples of evaluating arithmetic expressions in Python"
   ]
  },
  {
   "cell_type": "code",
   "execution_count": null,
   "id": "c92dd8fa",
   "metadata": {},
   "outputs": [
    {
     "data": {
      "text/plain": [
       "17"
      ]
     },
     "execution_count": 1,
     "metadata": {},
     "output_type": "execute_result"
    }
   ],
   "source": [
    "# This a simple arithmetic expression to multiply then add integers\n",
    "(3*4)+5"
   ]
  },
  {
   "cell_type": "code",
   "execution_count": 2,
   "id": "b550cf30",
   "metadata": {},
   "outputs": [
    {
     "data": {
      "text/plain": [
       "3.3333333333333335"
      ]
     },
     "execution_count": 2,
     "metadata": {},
     "output_type": "execute_result"
    }
   ],
   "source": [
    "# This will convert 200 minutes to hours by dividing by 60\n",
    "200/60"
   ]
  }
 ],
 "metadata": {
  "kernelspec": {
   "display_name": "Python 3",
   "language": "python",
   "name": "python3"
  },
  "language_info": {
   "codemirror_mode": {
    "name": "ipython",
    "version": 3
   },
   "file_extension": ".py",
   "mimetype": "text/x-python",
   "name": "python",
   "nbconvert_exporter": "python",
   "pygments_lexer": "ipython3",
   "version": "3.12.6"
  }
 },
 "nbformat": 4,
 "nbformat_minor": 5
}
